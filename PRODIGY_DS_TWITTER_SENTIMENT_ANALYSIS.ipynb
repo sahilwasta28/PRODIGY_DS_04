{
  "nbformat": 4,
  "nbformat_minor": 0,
  "metadata": {
    "colab": {
      "provenance": [],
      "authorship_tag": "ABX9TyNZIQ6j2JKEzwXVyeQpQERH",
      "include_colab_link": true
    },
    "kernelspec": {
      "name": "python3",
      "display_name": "Python 3"
    },
    "language_info": {
      "name": "python"
    }
  },
  "cells": [
    {
      "cell_type": "markdown",
      "metadata": {
        "id": "view-in-github",
        "colab_type": "text"
      },
      "source": [
        "<a href=\"https://colab.research.google.com/github/sahilwasta28/PRODIGY_DS_04/blob/main/PRODIGY_DS_TWITTER_SENTIMENT_ANALYSIS.ipynb\" target=\"_parent\"><img src=\"https://colab.research.google.com/assets/colab-badge.svg\" alt=\"Open In Colab\"/></a>"
      ]
    },
    {
      "cell_type": "markdown",
      "source": [
        "## Loading the required Datasets"
      ],
      "metadata": {
        "id": "o1ujr_vjUJbK"
      }
    },
    {
      "cell_type": "code",
      "execution_count": 3,
      "metadata": {
        "colab": {
          "base_uri": "https://localhost:8080/"
        },
        "id": "iYTZq2JC8DN2",
        "outputId": "7121f1d4-8ab6-431c-ef9e-9068b84e59b3"
      },
      "outputs": [
        {
          "output_type": "stream",
          "name": "stdout",
          "text": [
            "Training Dataset:\n",
            "   2401  Borderlands  Positive  \\\n",
            "0  2401  Borderlands  Positive   \n",
            "1  2401  Borderlands  Positive   \n",
            "2  2401  Borderlands  Positive   \n",
            "3  2401  Borderlands  Positive   \n",
            "4  2401  Borderlands  Positive   \n",
            "\n",
            "  im getting on borderlands and i will murder you all ,  \n",
            "0  I am coming to the borders and I will kill you...     \n",
            "1  im getting on borderlands and i will kill you ...     \n",
            "2  im coming on borderlands and i will murder you...     \n",
            "3  im getting on borderlands 2 and i will murder ...     \n",
            "4  im getting into borderlands and i can murder y...     \n",
            "<class 'pandas.core.frame.DataFrame'>\n",
            "RangeIndex: 74681 entries, 0 to 74680\n",
            "Data columns (total 4 columns):\n",
            " #   Column                                                 Non-Null Count  Dtype \n",
            "---  ------                                                 --------------  ----- \n",
            " 0   2401                                                   74681 non-null  int64 \n",
            " 1   Borderlands                                            74681 non-null  object\n",
            " 2   Positive                                               74681 non-null  object\n",
            " 3   im getting on borderlands and i will murder you all ,  73995 non-null  object\n",
            "dtypes: int64(1), object(3)\n",
            "memory usage: 2.3+ MB\n",
            "None\n",
            "\n",
            "Validation Dataset:\n",
            "   3364   Facebook Irrelevant  \\\n",
            "0   352     Amazon    Neutral   \n",
            "1  8312  Microsoft   Negative   \n",
            "2  4371      CS-GO   Negative   \n",
            "3  4433     Google    Neutral   \n",
            "4  6273       FIFA   Negative   \n",
            "\n",
            "  I mentioned on Facebook that I was struggling for motivation to go for a run the other day, which has been translated by Tom’s great auntie as ‘Hayley can’t get out of bed’ and told to his grandma, who now thinks I’m a lazy, terrible person 🤣  \n",
            "0  BBC News - Amazon boss Jeff Bezos rejects clai...                                                                                                                                                                                                  \n",
            "1  @Microsoft Why do I pay for WORD when it funct...                                                                                                                                                                                                  \n",
            "2  CSGO matchmaking is so full of closet hacking,...                                                                                                                                                                                                  \n",
            "3  Now the President is slapping Americans in the...                                                                                                                                                                                                  \n",
            "4  Hi @EAHelp I’ve had Madeleine McCann in my cel...                                                                                                                                                                                                  \n",
            "<class 'pandas.core.frame.DataFrame'>\n",
            "RangeIndex: 999 entries, 0 to 998\n",
            "Data columns (total 4 columns):\n",
            " #   Column                                                                                                                                                                                                                                              Non-Null Count  Dtype \n",
            "---  ------                                                                                                                                                                                                                                              --------------  ----- \n",
            " 0   3364                                                                                                                                                                                                                                                999 non-null    int64 \n",
            " 1   Facebook                                                                                                                                                                                                                                            999 non-null    object\n",
            " 2   Irrelevant                                                                                                                                                                                                                                          999 non-null    object\n",
            " 3   I mentioned on Facebook that I was struggling for motivation to go for a run the other day, which has been translated by Tom’s great auntie as ‘Hayley can’t get out of bed’ and told to his grandma, who now thinks I’m a lazy, terrible person 🤣  999 non-null    object\n",
            "dtypes: int64(1), object(3)\n",
            "memory usage: 31.3+ KB\n",
            "None\n"
          ]
        }
      ],
      "source": [
        "import pandas as pd\n",
        "\n",
        "# Loading the training and validation datasets\n",
        "train_df = pd.read_csv('twitter_training.csv')\n",
        "val_df = pd.read_csv('twitter_validation.csv')\n",
        "\n",
        "print(\"Training Dataset:\")\n",
        "print(train_df.head())\n",
        "print(train_df.info())\n",
        "\n",
        "print(\"\\nValidation Dataset:\")\n",
        "print(val_df.head())\n",
        "print(val_df.info())\n"
      ]
    },
    {
      "cell_type": "code",
      "source": [
        "import warnings\n",
        "\n",
        "warnings.filterwarnings('ignore')"
      ],
      "metadata": {
        "id": "OtIq9Zf3m1qD"
      },
      "execution_count": 4,
      "outputs": []
    },
    {
      "cell_type": "markdown",
      "source": [
        "### Printing some data from the Datasets"
      ],
      "metadata": {
        "id": "on6T_oJgUT_2"
      }
    },
    {
      "cell_type": "code",
      "source": [
        "print(train_df.columns)\n",
        "print(val_df.columns)\n",
        "print(\"Training Dataset:\")\n",
        "print(train_df.head())\n",
        "print(train_df.info())\n",
        "\n",
        "print(\"\\nValidation Dataset:\")\n",
        "print(val_df.head())\n",
        "print(val_df.info())\n"
      ],
      "metadata": {
        "colab": {
          "base_uri": "https://localhost:8080/"
        },
        "id": "r7PQ92eN-hcD",
        "outputId": "ad02b3e0-3327-41a5-a3cd-2bd5eb47362f"
      },
      "execution_count": 5,
      "outputs": [
        {
          "output_type": "stream",
          "name": "stdout",
          "text": [
            "Index(['2401', 'Borderlands', 'Positive',\n",
            "       'im getting on borderlands and i will murder you all ,'],\n",
            "      dtype='object')\n",
            "Index(['3364', 'Facebook', 'Irrelevant',\n",
            "       'I mentioned on Facebook that I was struggling for motivation to go for a run the other day, which has been translated by Tom’s great auntie as ‘Hayley can’t get out of bed’ and told to his grandma, who now thinks I’m a lazy, terrible person 🤣'],\n",
            "      dtype='object')\n",
            "Training Dataset:\n",
            "   2401  Borderlands  Positive  \\\n",
            "0  2401  Borderlands  Positive   \n",
            "1  2401  Borderlands  Positive   \n",
            "2  2401  Borderlands  Positive   \n",
            "3  2401  Borderlands  Positive   \n",
            "4  2401  Borderlands  Positive   \n",
            "\n",
            "  im getting on borderlands and i will murder you all ,  \n",
            "0  I am coming to the borders and I will kill you...     \n",
            "1  im getting on borderlands and i will kill you ...     \n",
            "2  im coming on borderlands and i will murder you...     \n",
            "3  im getting on borderlands 2 and i will murder ...     \n",
            "4  im getting into borderlands and i can murder y...     \n",
            "<class 'pandas.core.frame.DataFrame'>\n",
            "RangeIndex: 74681 entries, 0 to 74680\n",
            "Data columns (total 4 columns):\n",
            " #   Column                                                 Non-Null Count  Dtype \n",
            "---  ------                                                 --------------  ----- \n",
            " 0   2401                                                   74681 non-null  int64 \n",
            " 1   Borderlands                                            74681 non-null  object\n",
            " 2   Positive                                               74681 non-null  object\n",
            " 3   im getting on borderlands and i will murder you all ,  73995 non-null  object\n",
            "dtypes: int64(1), object(3)\n",
            "memory usage: 2.3+ MB\n",
            "None\n",
            "\n",
            "Validation Dataset:\n",
            "   3364   Facebook Irrelevant  \\\n",
            "0   352     Amazon    Neutral   \n",
            "1  8312  Microsoft   Negative   \n",
            "2  4371      CS-GO   Negative   \n",
            "3  4433     Google    Neutral   \n",
            "4  6273       FIFA   Negative   \n",
            "\n",
            "  I mentioned on Facebook that I was struggling for motivation to go for a run the other day, which has been translated by Tom’s great auntie as ‘Hayley can’t get out of bed’ and told to his grandma, who now thinks I’m a lazy, terrible person 🤣  \n",
            "0  BBC News - Amazon boss Jeff Bezos rejects clai...                                                                                                                                                                                                  \n",
            "1  @Microsoft Why do I pay for WORD when it funct...                                                                                                                                                                                                  \n",
            "2  CSGO matchmaking is so full of closet hacking,...                                                                                                                                                                                                  \n",
            "3  Now the President is slapping Americans in the...                                                                                                                                                                                                  \n",
            "4  Hi @EAHelp I’ve had Madeleine McCann in my cel...                                                                                                                                                                                                  \n",
            "<class 'pandas.core.frame.DataFrame'>\n",
            "RangeIndex: 999 entries, 0 to 998\n",
            "Data columns (total 4 columns):\n",
            " #   Column                                                                                                                                                                                                                                              Non-Null Count  Dtype \n",
            "---  ------                                                                                                                                                                                                                                              --------------  ----- \n",
            " 0   3364                                                                                                                                                                                                                                                999 non-null    int64 \n",
            " 1   Facebook                                                                                                                                                                                                                                            999 non-null    object\n",
            " 2   Irrelevant                                                                                                                                                                                                                                          999 non-null    object\n",
            " 3   I mentioned on Facebook that I was struggling for motivation to go for a run the other day, which has been translated by Tom’s great auntie as ‘Hayley can’t get out of bed’ and told to his grandma, who now thinks I’m a lazy, terrible person 🤣  999 non-null    object\n",
            "dtypes: int64(1), object(3)\n",
            "memory usage: 31.3+ KB\n",
            "None\n"
          ]
        }
      ]
    },
    {
      "cell_type": "markdown",
      "source": [
        "### Pie Chart (Visualization)"
      ],
      "metadata": {
        "id": "x-Ltp1SwlLOu"
      }
    },
    {
      "cell_type": "code",
      "source": [
        "import pandas as pd\n",
        "import matplotlib.pyplot as plt\n",
        "\n",
        "# Loading the training dataset\n",
        "train_df = pd.read_csv('twitter_training.csv')\n",
        "\n",
        "try:\n",
        "\n",
        "    sentiment_counts = train_df.iloc[:, 2].value_counts()\n",
        "\n",
        "\n",
        "    sentiment_counts = sentiment_counts[sentiment_counts.index != 'irrelevant']\n",
        "\n",
        "    # Plotting a pie chart for sentiment distribution\n",
        "    plt.figure(figsize=(8, 6))\n",
        "    colors = ['skyblue', 'lightcoral', 'lightgreen', 'orange']  # Assigning colors including a different color for 'irrelevant'\n",
        "    plt.pie(sentiment_counts, labels=sentiment_counts.index, autopct='%1.1f%%', colors=colors)\n",
        "    plt.title('Sentiment Distribution in Training Data')\n",
        "    plt.axis('equal')\n",
        "    plt.show()\n",
        "\n",
        "except IndexError:\n",
        "    print(\"Index 2 is out of range. Verify the structure of dataset.\")\n",
        "except KeyError:\n",
        "    print(\"Sentiment column not found. Verify the structure of dataset.\")\n",
        "\n",
        "\n"
      ],
      "metadata": {
        "colab": {
          "base_uri": "https://localhost:8080/",
          "height": 521
        },
        "id": "BB5v-wdMfXtX",
        "outputId": "bd03d99d-4ad9-4821-c800-4db369008499"
      },
      "execution_count": 6,
      "outputs": [
        {
          "output_type": "display_data",
          "data": {
            "text/plain": [
              "<Figure size 800x600 with 1 Axes>"
            ],
            "image/png": "[encoded data removed]"
          },
          "metadata": {}
        }
      ]
    },
    {
      "cell_type": "markdown",
      "source": [
        "Here, It demonstrates that **negative sentiment has the highest frequency** in the training dataset when 'irrelevant' sentiments are excluded. This insight is crucial for understanding public opinion and attitudes towards specific topics or brands in social media. A high proportion of negative sentiment could indicate dissatisfaction or criticism related to the topic or brand being analyzed. This finding suggests that there may be significant challenges or concerns associated with the subject matter, which could impact reputation, customer satisfaction, or public perception."
      ],
      "metadata": {
        "id": "JLPjLYhxCoWc"
      }
    },
    {
      "cell_type": "markdown",
      "source": [
        "## Preprocessing the Data"
      ],
      "metadata": {
        "id": "d-ngq8oWUfx9"
      }
    },
    {
      "cell_type": "code",
      "source": [
        "import nltk\n",
        "from nltk.corpus import stopwords\n",
        "from nltk.tokenize import word_tokenize\n",
        "from nltk.stem import WordNetLemmatizer\n",
        "import string\n",
        "\n",
        "# Downloading NLTK resources\n",
        "nltk.download('punkt')\n",
        "nltk.download('stopwords')\n",
        "nltk.download('wordnet')\n",
        "\n",
        "def preprocess_text(text_column):\n",
        "    # Checking and handling missing values\n",
        "    text_column = text_column.fillna('')  # Replacing NaN with empty string\n",
        "\n",
        "    text_column = text_column.astype(str)  # Ensuring all values are strings\n",
        "\n",
        "    text_column = text_column.str.lower()  # Converting text to lowercase\n",
        "    text_column = text_column.str.translate(str.maketrans('', '', string.punctuation))  # Removing punctuation\n",
        "    tokens = text_column.apply(word_tokenize)  # Tokenize text\n",
        "    tokens = tokens.apply(lambda x: [token for token in x if token not in stopwords.words('english')])  # Removing stopwords\n",
        "    lemmatizer = WordNetLemmatizer()\n",
        "    tokens = tokens.apply(lambda x: [lemmatizer.lemmatize(token) for token in x])  # Lemmatizing tokens\n",
        "    return tokens.apply(lambda x: \" \".join(x))\n",
        "\n",
        "# Applying preprocessing assuming text is in the last column\n",
        "train_df['clean_text'] = preprocess_text(train_df.iloc[:, -1])\n",
        "val_df['clean_text'] = preprocess_text(val_df.iloc[:, -1])\n",
        "\n",
        "\n",
        "\n",
        "\n"
      ],
      "metadata": {
        "colab": {
          "base_uri": "https://localhost:8080/"
        },
        "id": "hV_Scmf29hWm",
        "outputId": "ba207a62-37ca-4b23-eb3b-08b27056a3ac"
      },
      "execution_count": 7,
      "outputs": [
        {
          "output_type": "stream",
          "name": "stderr",
          "text": [
            "[nltk_data] Downloading package punkt to /root/nltk_data...\n",
            "[nltk_data]   Unzipping tokenizers/punkt.zip.\n",
            "[nltk_data] Downloading package stopwords to /root/nltk_data...\n",
            "[nltk_data]   Unzipping corpora/stopwords.zip.\n",
            "[nltk_data] Downloading package wordnet to /root/nltk_data...\n"
          ]
        }
      ]
    },
    {
      "cell_type": "markdown",
      "source": [
        "## Building a Classifier (Logistic Regression Classifier)"
      ],
      "metadata": {
        "id": "t6xkS0xtUnju"
      }
    },
    {
      "cell_type": "code",
      "source": [
        "from sklearn.feature_extraction.text import TfidfVectorizer\n",
        "from sklearn.linear_model import LogisticRegression\n",
        "from sklearn.pipeline import Pipeline\n",
        "from sklearn.metrics import classification_report, accuracy_score\n",
        "\n",
        "# Define the model pipeline\n",
        "model = Pipeline([\n",
        "    ('tfidf', TfidfVectorizer(max_features=1000)),\n",
        "    ('clf', LogisticRegression()),  # Logistic Regression classifier\n",
        "])\n",
        "\n",
        "# Training the model\n",
        "model.fit(train_df['clean_text'], train_df.iloc[:, 2])\n",
        "\n",
        "# Predictions on validation set\n",
        "val_predictions = model.predict(val_df['clean_text'])\n",
        "\n",
        "# Evaluating the model\n",
        "accuracy = accuracy_score(val_df.iloc[:, 2], val_predictions)\n",
        "print(f'Accuracy: {accuracy:.4f}')\n",
        "\n",
        "# Printing classification report for detailed evaluation\n",
        "print(classification_report(val_df.iloc[:, 2], val_predictions))\n",
        "\n",
        "\n"
      ],
      "metadata": {
        "colab": {
          "base_uri": "https://localhost:8080/"
        },
        "id": "sfH4kD2P_9FH",
        "outputId": "c82897fa-c742-4ad9-82ef-f62d2b5f15b5"
      },
      "execution_count": 8,
      "outputs": [
        {
          "output_type": "stream",
          "name": "stdout",
          "text": [
            "Accuracy: 0.6476\n",
            "              precision    recall  f1-score   support\n",
            "\n",
            "  Irrelevant       0.60      0.47      0.52       171\n",
            "    Negative       0.62      0.76      0.68       266\n",
            "     Neutral       0.71      0.59      0.64       285\n",
            "    Positive       0.65      0.71      0.68       277\n",
            "\n",
            "    accuracy                           0.65       999\n",
            "   macro avg       0.64      0.63      0.63       999\n",
            "weighted avg       0.65      0.65      0.64       999\n",
            "\n"
          ]
        }
      ]
    },
    {
      "cell_type": "markdown",
      "source": [
        "### Printing predicted & actual labels"
      ],
      "metadata": {
        "id": "qEOYDNpSUz_Q"
      }
    },
    {
      "cell_type": "code",
      "source": [
        "print(val_predictions[:10])  # Printing first few predicted labels\n",
        "print(val_df.iloc[:, 0].head(10))  # Printing first few actual labels\n"
      ],
      "metadata": {
        "colab": {
          "base_uri": "https://localhost:8080/"
        },
        "id": "E83agdTeCRw8",
        "outputId": "51332fa2-24d2-40ee-b63e-2459bfa43ec0"
      },
      "execution_count": 9,
      "outputs": [
        {
          "output_type": "stream",
          "name": "stdout",
          "text": [
            "['Neutral' 'Negative' 'Negative' 'Neutral' 'Negative' 'Positive'\n",
            " 'Irrelevant' 'Positive' 'Negative' 'Negative']\n",
            "0      352\n",
            "1     8312\n",
            "2     4371\n",
            "3     4433\n",
            "4     6273\n",
            "5     7925\n",
            "6    11332\n",
            "7     1107\n",
            "8     2069\n",
            "9     3185\n",
            "Name: 3364, dtype: int64\n"
          ]
        }
      ]
    },
    {
      "cell_type": "code",
      "source": [
        "val_df.iloc[:, 0] = val_df.iloc[:, 0].astype(str)\n"
      ],
      "metadata": {
        "id": "N41R613ECVbA"
      },
      "execution_count": 10,
      "outputs": []
    },
    {
      "cell_type": "code",
      "source": [
        "print(val_df.iloc[:, 0].apply(type).value_counts())\n"
      ],
      "metadata": {
        "colab": {
          "base_uri": "https://localhost:8080/"
        },
        "id": "XG6VigfSCZVl",
        "outputId": "debb5fcc-5cbb-4d6c-e9a4-243a2f96bc8a"
      },
      "execution_count": 11,
      "outputs": [
        {
          "output_type": "stream",
          "name": "stdout",
          "text": [
            "3364\n",
            "<class 'str'>    999\n",
            "Name: count, dtype: int64\n"
          ]
        }
      ]
    },
    {
      "cell_type": "code",
      "source": [
        "sample_predictions = val_predictions[:10]\n",
        "sample_actual = val_df.iloc[:, 0].head(10)\n",
        "print(sample_predictions)\n",
        "print(sample_actual)\n"
      ],
      "metadata": {
        "colab": {
          "base_uri": "https://localhost:8080/"
        },
        "id": "4sOiY39BCea0",
        "outputId": "f92c0438-1d44-4268-c6ba-e314e4cdee45"
      },
      "execution_count": 12,
      "outputs": [
        {
          "output_type": "stream",
          "name": "stdout",
          "text": [
            "['Neutral' 'Negative' 'Negative' 'Neutral' 'Negative' 'Positive'\n",
            " 'Irrelevant' 'Positive' 'Negative' 'Negative']\n",
            "0      352\n",
            "1     8312\n",
            "2     4371\n",
            "3     4433\n",
            "4     6273\n",
            "5     7925\n",
            "6    11332\n",
            "7     1107\n",
            "8     2069\n",
            "9     3185\n",
            "Name: 3364, dtype: object\n"
          ]
        }
      ]
    },
    {
      "cell_type": "markdown",
      "source": [
        "## Visualization (Heatmap)"
      ],
      "metadata": {
        "id": "2Eh1rdGSVG5C"
      }
    },
    {
      "cell_type": "code",
      "source": [
        "import matplotlib.pyplot as plt\n",
        "import seaborn as sns\n",
        "from sklearn.metrics import confusion_matrix\n",
        "\n",
        "\n",
        "sample_predictions = val_predictions[:10]\n",
        "sample_actuals = val_df.iloc[:, 2].head(10)\n",
        "\n",
        "# Computing confusion matrix for the required sample\n",
        "conf_matrix = confusion_matrix(sample_actuals, sample_predictions)\n",
        "\n",
        "# Plotting confusion matrix as a heatmap\n",
        "plt.figure(figsize=(6, 4))\n",
        "sns.heatmap(conf_matrix, annot=True, fmt='d', cmap='Blues',\n",
        "            xticklabels=['Negative', 'Neutral', 'Positive'],\n",
        "            yticklabels=['Negative', 'Neutral', 'Positive'])\n",
        "plt.xlabel('Predicted')\n",
        "plt.ylabel('Actual')\n",
        "plt.title('Confusion Matrix (Sample)')\n",
        "plt.show()\n",
        "\n",
        "\n",
        "\n",
        "\n",
        "\n",
        "\n"
      ],
      "metadata": {
        "colab": {
          "base_uri": "https://localhost:8080/",
          "height": 410
        },
        "id": "kKuX1_SMAkqA",
        "outputId": "95c36ac5-e716-4578-f161-8f6c3cde2e2c"
      },
      "execution_count": 13,
      "outputs": [
        {
          "output_type": "display_data",
          "data": {
            "text/plain": [
              "<Figure size 600x400 with 2 Axes>"
            ],
            "image/png": "[encoded data removed]"
          },
          "metadata": {}
        }
      ]
    }
  ]
}